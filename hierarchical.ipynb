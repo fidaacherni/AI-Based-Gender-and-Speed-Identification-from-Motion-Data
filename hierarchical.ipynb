{
 "cells": [
  {
   "cell_type": "code",
   "execution_count": 1,
   "id": "2b93d2bb-491a-49d4-a5d6-ea7e07b79bf0",
   "metadata": {},
   "outputs": [
    {
     "name": "stdout",
     "output_type": "stream",
     "text": [
      "Requirement already satisfied: sklearn in /Users/macbook/opt/anaconda3/lib/python3.9/site-packages (0.0)\n",
      "Requirement already satisfied: scikit-learn in /Users/macbook/opt/anaconda3/lib/python3.9/site-packages (from sklearn) (0.24.2)\n",
      "Requirement already satisfied: joblib>=0.11 in /Users/macbook/opt/anaconda3/lib/python3.9/site-packages (from scikit-learn->sklearn) (1.1.0)\n",
      "Requirement already satisfied: threadpoolctl>=2.0.0 in /Users/macbook/opt/anaconda3/lib/python3.9/site-packages (from scikit-learn->sklearn) (2.2.0)\n",
      "Requirement already satisfied: numpy>=1.13.3 in /Users/macbook/opt/anaconda3/lib/python3.9/site-packages (from scikit-learn->sklearn) (1.20.3)\n",
      "Requirement already satisfied: scipy>=0.19.1 in /Users/macbook/opt/anaconda3/lib/python3.9/site-packages (from scikit-learn->sklearn) (1.7.1)\n"
     ]
    }
   ],
   "source": [
    "import sys\n",
    "!{sys.executable} -m pip install sklearn"
   ]
  },
  {
   "cell_type": "code",
   "execution_count": 3,
   "id": "8bdef890-88e7-41f6-bee7-717725a26a14",
   "metadata": {},
   "outputs": [
    {
     "name": "stdout",
     "output_type": "stream",
     "text": [
      "Collecting plotly\n",
      "  Downloading plotly-5.8.0-py2.py3-none-any.whl (15.2 MB)\n",
      "\u001b[K     |████████████████████████████████| 15.2 MB 276 kB/s eta 0:00:01\n",
      "\u001b[?25hCollecting tenacity>=6.2.0\n",
      "  Downloading tenacity-8.0.1-py3-none-any.whl (24 kB)\n",
      "Installing collected packages: tenacity, plotly\n",
      "Successfully installed plotly-5.8.0 tenacity-8.0.1\n"
     ]
    }
   ],
   "source": [
    "import sys\n",
    "!{sys.executable} -m pip install plotly"
   ]
  },
  {
   "cell_type": "code",
   "execution_count": 59,
   "id": "9ee097f2-d14c-40eb-aba0-78db9c763357",
   "metadata": {},
   "outputs": [],
   "source": [
    "import pandas as pd\n",
    "import numpy as np\n",
    "import matplotlib.pyplot as plt\n",
    "\n",
    "from sklearn.cluster import AgglomerativeClustering \n",
    "from sklearn.preprocessing import StandardScaler, normalize\n",
    "from sklearn.decomposition import PCA\n",
    "from sklearn.metrics import silhouette_score\n",
    "import scipy.cluster.hierarchy as shc\n"
   ]
  },
  {
   "cell_type": "code",
   "execution_count": 60,
   "id": "4d64f763-2f66-4cd9-8086-e05761ea50c8",
   "metadata": {},
   "outputs": [],
   "source": [
    "df=pd.read_excel(\"Final_Data.xlsx\")"
   ]
  },
  {
   "cell_type": "code",
   "execution_count": 61,
   "id": "d4293dbe-0bfb-42de-9c2c-e3a94d8cf3d4",
   "metadata": {},
   "outputs": [],
   "source": [
    "df['Vision'].replace(['Open', 'Closed'], [1, 0], inplace=True)\n",
    "df['Surface'].replace(['Firm', 'Foam'], [1, 0], inplace=True)"
   ]
  },
  {
   "cell_type": "code",
   "execution_count": 7,
   "id": "28b31628-8a5b-41fe-a8b5-4915f0ce917d",
   "metadata": {},
   "outputs": [
    {
     "data": {
      "text/html": [
       "<div>\n",
       "<style scoped>\n",
       "    .dataframe tbody tr th:only-of-type {\n",
       "        vertical-align: middle;\n",
       "    }\n",
       "\n",
       "    .dataframe tbody tr th {\n",
       "        vertical-align: top;\n",
       "    }\n",
       "\n",
       "    .dataframe thead th {\n",
       "        text-align: right;\n",
       "    }\n",
       "</style>\n",
       "<table border=\"1\" class=\"dataframe\">\n",
       "  <thead>\n",
       "    <tr style=\"text-align: right;\">\n",
       "      <th></th>\n",
       "      <th>Unnamed: 0</th>\n",
       "      <th>Trial</th>\n",
       "      <th>Unnamed: 1</th>\n",
       "      <th>Vision</th>\n",
       "      <th>Surface</th>\n",
       "      <th>Fx[N]</th>\n",
       "      <th>Fy[N]</th>\n",
       "      <th>Fz[N]</th>\n",
       "      <th>Mx[Nm]</th>\n",
       "      <th>My[Nm]</th>\n",
       "      <th>...</th>\n",
       "      <th>Max_COPx</th>\n",
       "      <th>Min_COPy</th>\n",
       "      <th>Coeff_stab</th>\n",
       "      <th>Fx/Fz</th>\n",
       "      <th>Fy/Fz</th>\n",
       "      <th>Section</th>\n",
       "      <th>Min_COPx</th>\n",
       "      <th>Max_COPy</th>\n",
       "      <th>Ecart_COPx</th>\n",
       "      <th>Ecart_COPy</th>\n",
       "    </tr>\n",
       "  </thead>\n",
       "  <tbody>\n",
       "    <tr>\n",
       "      <th>0</th>\n",
       "      <td>0</td>\n",
       "      <td>BDS00001</td>\n",
       "      <td>1</td>\n",
       "      <td>1</td>\n",
       "      <td>1</td>\n",
       "      <td>-1.732227</td>\n",
       "      <td>-3.811173</td>\n",
       "      <td>537.878822</td>\n",
       "      <td>5.218416</td>\n",
       "      <td>43.218262</td>\n",
       "      <td>...</td>\n",
       "      <td>-7.353309</td>\n",
       "      <td>0.612749</td>\n",
       "      <td>4.186365</td>\n",
       "      <td>-0.003220</td>\n",
       "      <td>-0.007086</td>\n",
       "      <td>1.402341</td>\n",
       "      <td>-9.029349</td>\n",
       "      <td>1.449448</td>\n",
       "      <td>1.676040</td>\n",
       "      <td>0.836699</td>\n",
       "    </tr>\n",
       "    <tr>\n",
       "      <th>1</th>\n",
       "      <td>1</td>\n",
       "      <td>BDS00002</td>\n",
       "      <td>2</td>\n",
       "      <td>1</td>\n",
       "      <td>1</td>\n",
       "      <td>-1.627292</td>\n",
       "      <td>-4.235726</td>\n",
       "      <td>535.285603</td>\n",
       "      <td>2.955367</td>\n",
       "      <td>41.121174</td>\n",
       "      <td>...</td>\n",
       "      <td>-6.638454</td>\n",
       "      <td>0.140214</td>\n",
       "      <td>4.537560</td>\n",
       "      <td>-0.003040</td>\n",
       "      <td>-0.007913</td>\n",
       "      <td>1.814866</td>\n",
       "      <td>-8.891325</td>\n",
       "      <td>0.945793</td>\n",
       "      <td>2.252871</td>\n",
       "      <td>0.805579</td>\n",
       "    </tr>\n",
       "    <tr>\n",
       "      <th>2</th>\n",
       "      <td>2</td>\n",
       "      <td>BDS00003</td>\n",
       "      <td>3</td>\n",
       "      <td>1</td>\n",
       "      <td>1</td>\n",
       "      <td>-1.566174</td>\n",
       "      <td>-4.603948</td>\n",
       "      <td>534.938451</td>\n",
       "      <td>2.289978</td>\n",
       "      <td>42.048856</td>\n",
       "      <td>...</td>\n",
       "      <td>-7.285561</td>\n",
       "      <td>0.058207</td>\n",
       "      <td>4.863048</td>\n",
       "      <td>-0.002928</td>\n",
       "      <td>-0.008607</td>\n",
       "      <td>0.771987</td>\n",
       "      <td>-8.504962</td>\n",
       "      <td>0.691294</td>\n",
       "      <td>1.219401</td>\n",
       "      <td>0.633087</td>\n",
       "    </tr>\n",
       "    <tr>\n",
       "      <th>3</th>\n",
       "      <td>3</td>\n",
       "      <td>BDS00004</td>\n",
       "      <td>4</td>\n",
       "      <td>0</td>\n",
       "      <td>1</td>\n",
       "      <td>1.843765</td>\n",
       "      <td>-4.005788</td>\n",
       "      <td>531.874216</td>\n",
       "      <td>3.239688</td>\n",
       "      <td>36.531572</td>\n",
       "      <td>...</td>\n",
       "      <td>-6.302602</td>\n",
       "      <td>0.304533</td>\n",
       "      <td>4.409739</td>\n",
       "      <td>0.003467</td>\n",
       "      <td>-0.007531</td>\n",
       "      <td>0.736278</td>\n",
       "      <td>-7.331580</td>\n",
       "      <td>1.020076</td>\n",
       "      <td>1.028978</td>\n",
       "      <td>0.715543</td>\n",
       "    </tr>\n",
       "    <tr>\n",
       "      <th>4</th>\n",
       "      <td>4</td>\n",
       "      <td>BDS00005</td>\n",
       "      <td>5</td>\n",
       "      <td>0</td>\n",
       "      <td>1</td>\n",
       "      <td>6.367666</td>\n",
       "      <td>-0.937484</td>\n",
       "      <td>529.691440</td>\n",
       "      <td>2.962939</td>\n",
       "      <td>40.596105</td>\n",
       "      <td>...</td>\n",
       "      <td>-6.513514</td>\n",
       "      <td>0.077692</td>\n",
       "      <td>6.436307</td>\n",
       "      <td>0.012021</td>\n",
       "      <td>-0.001770</td>\n",
       "      <td>2.270045</td>\n",
       "      <td>-8.636317</td>\n",
       "      <td>1.147054</td>\n",
       "      <td>2.122803</td>\n",
       "      <td>1.069362</td>\n",
       "    </tr>\n",
       "  </tbody>\n",
       "</table>\n",
       "<p>5 rows × 29 columns</p>\n",
       "</div>"
      ],
      "text/plain": [
       "   Unnamed: 0     Trial  Unnamed: 1  Vision  Surface     Fx[N]     Fy[N]  \\\n",
       "0           0  BDS00001           1       1        1 -1.732227 -3.811173   \n",
       "1           1  BDS00002           2       1        1 -1.627292 -4.235726   \n",
       "2           2  BDS00003           3       1        1 -1.566174 -4.603948   \n",
       "3           3  BDS00004           4       0        1  1.843765 -4.005788   \n",
       "4           4  BDS00005           5       0        1  6.367666 -0.937484   \n",
       "\n",
       "        Fz[N]    Mx[Nm]     My[Nm]  ...  Max_COPx  Min_COPy  Coeff_stab  \\\n",
       "0  537.878822  5.218416  43.218262  ... -7.353309  0.612749    4.186365   \n",
       "1  535.285603  2.955367  41.121174  ... -6.638454  0.140214    4.537560   \n",
       "2  534.938451  2.289978  42.048856  ... -7.285561  0.058207    4.863048   \n",
       "3  531.874216  3.239688  36.531572  ... -6.302602  0.304533    4.409739   \n",
       "4  529.691440  2.962939  40.596105  ... -6.513514  0.077692    6.436307   \n",
       "\n",
       "      Fx/Fz     Fy/Fz   Section  Min_COPx  Max_COPy  Ecart_COPx  Ecart_COPy  \n",
       "0 -0.003220 -0.007086  1.402341 -9.029349  1.449448    1.676040    0.836699  \n",
       "1 -0.003040 -0.007913  1.814866 -8.891325  0.945793    2.252871    0.805579  \n",
       "2 -0.002928 -0.008607  0.771987 -8.504962  0.691294    1.219401    0.633087  \n",
       "3  0.003467 -0.007531  0.736278 -7.331580  1.020076    1.028978    0.715543  \n",
       "4  0.012021 -0.001770  2.270045 -8.636317  1.147054    2.122803    1.069362  \n",
       "\n",
       "[5 rows x 29 columns]"
      ]
     },
     "execution_count": 7,
     "metadata": {},
     "output_type": "execute_result"
    }
   ],
   "source": [
    "df.head()"
   ]
  },
  {
   "cell_type": "code",
   "execution_count": 63,
   "id": "88e878ba-82d4-461a-bf55-b6e5b234c7c3",
   "metadata": {},
   "outputs": [],
   "source": [
    "features = ['Coeff_stab','Section', 'COPx[cm]', 'COPy[cm]']\n",
    "x = df.loc[:, features].values\n",
    "y = df.loc[:,['Surface',\"Vision\"]].values"
   ]
  },
  {
   "cell_type": "code",
   "execution_count": 64,
   "id": "9f7bf957-f9a5-41d7-b740-67724752f2cb",
   "metadata": {},
   "outputs": [],
   "source": [
    "x = StandardScaler().fit_transform(x)"
   ]
  },
  {
   "cell_type": "code",
   "execution_count": 65,
   "id": "e62497bd-f570-49ce-8215-f0fa2d44110b",
   "metadata": {},
   "outputs": [
    {
     "data": {
      "text/html": [
       "<div>\n",
       "<style scoped>\n",
       "    .dataframe tbody tr th:only-of-type {\n",
       "        vertical-align: middle;\n",
       "    }\n",
       "\n",
       "    .dataframe tbody tr th {\n",
       "        vertical-align: top;\n",
       "    }\n",
       "\n",
       "    .dataframe thead th {\n",
       "        text-align: right;\n",
       "    }\n",
       "</style>\n",
       "<table border=\"1\" class=\"dataframe\">\n",
       "  <thead>\n",
       "    <tr style=\"text-align: right;\">\n",
       "      <th></th>\n",
       "      <th>Coeff_stab</th>\n",
       "      <th>Section</th>\n",
       "      <th>COPx[cm]</th>\n",
       "      <th>COPy[cm]</th>\n",
       "    </tr>\n",
       "  </thead>\n",
       "  <tbody>\n",
       "    <tr>\n",
       "      <th>0</th>\n",
       "      <td>-0.265416</td>\n",
       "      <td>-0.878199</td>\n",
       "      <td>-3.350621</td>\n",
       "      <td>0.796850</td>\n",
       "    </tr>\n",
       "    <tr>\n",
       "      <th>1</th>\n",
       "      <td>-0.096661</td>\n",
       "      <td>-0.857526</td>\n",
       "      <td>-3.185098</td>\n",
       "      <td>0.449539</td>\n",
       "    </tr>\n",
       "    <tr>\n",
       "      <th>2</th>\n",
       "      <td>0.059742</td>\n",
       "      <td>-0.909788</td>\n",
       "      <td>-3.268787</td>\n",
       "      <td>0.346501</td>\n",
       "    </tr>\n",
       "    <tr>\n",
       "      <th>3</th>\n",
       "      <td>-0.158081</td>\n",
       "      <td>-0.911577</td>\n",
       "      <td>-2.803366</td>\n",
       "      <td>0.496899</td>\n",
       "    </tr>\n",
       "    <tr>\n",
       "      <th>4</th>\n",
       "      <td>0.815721</td>\n",
       "      <td>-0.834715</td>\n",
       "      <td>-3.176691</td>\n",
       "      <td>0.455522</td>\n",
       "    </tr>\n",
       "  </tbody>\n",
       "</table>\n",
       "</div>"
      ],
      "text/plain": [
       "   Coeff_stab   Section  COPx[cm]  COPy[cm]\n",
       "0   -0.265416 -0.878199 -3.350621  0.796850\n",
       "1   -0.096661 -0.857526 -3.185098  0.449539\n",
       "2    0.059742 -0.909788 -3.268787  0.346501\n",
       "3   -0.158081 -0.911577 -2.803366  0.496899\n",
       "4    0.815721 -0.834715 -3.176691  0.455522"
      ]
     },
     "execution_count": 65,
     "metadata": {},
     "output_type": "execute_result"
    }
   ],
   "source": [
    "pd.DataFrame(data = x, columns = features).head()"
   ]
  },
  {
   "cell_type": "code",
   "execution_count": 66,
   "id": "df0dfda2-ab7c-41a2-9e31-da50530710e9",
   "metadata": {},
   "outputs": [],
   "source": [
    "pca = PCA(n_components=2)"
   ]
  },
  {
   "cell_type": "code",
   "execution_count": 67,
   "id": "2febe97d-7752-46b2-8300-da6908e24557",
   "metadata": {},
   "outputs": [],
   "source": [
    "principalComponents = pca.fit_transform(x)"
   ]
  },
  {
   "cell_type": "code",
   "execution_count": 68,
   "id": "fe3a65d3-d6cd-434d-bd4d-228359ec1640",
   "metadata": {},
   "outputs": [],
   "source": [
    "principalDf = pd.DataFrame(data = principalComponents, \n",
    "                           columns = ['principal component 1', 'principal component 2'])"
   ]
  },
  {
   "cell_type": "code",
   "execution_count": 16,
   "id": "5ab60ee1-9d2a-4b47-adda-9b035c6781fb",
   "metadata": {},
   "outputs": [
    {
     "data": {
      "text/html": [
       "<div>\n",
       "<style scoped>\n",
       "    .dataframe tbody tr th:only-of-type {\n",
       "        vertical-align: middle;\n",
       "    }\n",
       "\n",
       "    .dataframe tbody tr th {\n",
       "        vertical-align: top;\n",
       "    }\n",
       "\n",
       "    .dataframe thead th {\n",
       "        text-align: right;\n",
       "    }\n",
       "</style>\n",
       "<table border=\"1\" class=\"dataframe\">\n",
       "  <thead>\n",
       "    <tr style=\"text-align: right;\">\n",
       "      <th></th>\n",
       "      <th>principal component 1</th>\n",
       "      <th>principal component 2</th>\n",
       "    </tr>\n",
       "  </thead>\n",
       "  <tbody>\n",
       "    <tr>\n",
       "      <th>0</th>\n",
       "      <td>-2.897782</td>\n",
       "      <td>0.496654</td>\n",
       "    </tr>\n",
       "    <tr>\n",
       "      <th>1</th>\n",
       "      <td>-2.644184</td>\n",
       "      <td>0.785136</td>\n",
       "    </tr>\n",
       "    <tr>\n",
       "      <th>2</th>\n",
       "      <td>-2.645928</td>\n",
       "      <td>0.945012</td>\n",
       "    </tr>\n",
       "    <tr>\n",
       "      <th>3</th>\n",
       "      <td>-2.478884</td>\n",
       "      <td>0.595304</td>\n",
       "    </tr>\n",
       "    <tr>\n",
       "      <th>4</th>\n",
       "      <td>-2.260729</td>\n",
       "      <td>0.964858</td>\n",
       "    </tr>\n",
       "  </tbody>\n",
       "</table>\n",
       "</div>"
      ],
      "text/plain": [
       "   principal component 1  principal component 2\n",
       "0              -2.897782               0.496654\n",
       "1              -2.644184               0.785136\n",
       "2              -2.645928               0.945012\n",
       "3              -2.478884               0.595304\n",
       "4              -2.260729               0.964858"
      ]
     },
     "execution_count": 16,
     "metadata": {},
     "output_type": "execute_result"
    }
   ],
   "source": [
    "principalDf.head(5)"
   ]
  },
  {
   "cell_type": "code",
   "execution_count": 69,
   "id": "3d19e0c1-d86e-4be4-9534-a217fe87541a",
   "metadata": {},
   "outputs": [
    {
     "data": {
      "text/html": [
       "<div>\n",
       "<style scoped>\n",
       "    .dataframe tbody tr th:only-of-type {\n",
       "        vertical-align: middle;\n",
       "    }\n",
       "\n",
       "    .dataframe tbody tr th {\n",
       "        vertical-align: top;\n",
       "    }\n",
       "\n",
       "    .dataframe thead th {\n",
       "        text-align: right;\n",
       "    }\n",
       "</style>\n",
       "<table border=\"1\" class=\"dataframe\">\n",
       "  <thead>\n",
       "    <tr style=\"text-align: right;\">\n",
       "      <th></th>\n",
       "      <th>principal component 1</th>\n",
       "      <th>principal component 2</th>\n",
       "      <th>Vision</th>\n",
       "      <th>Surface</th>\n",
       "    </tr>\n",
       "  </thead>\n",
       "  <tbody>\n",
       "    <tr>\n",
       "      <th>0</th>\n",
       "      <td>-2.897782</td>\n",
       "      <td>0.496654</td>\n",
       "      <td>1</td>\n",
       "      <td>1</td>\n",
       "    </tr>\n",
       "    <tr>\n",
       "      <th>1</th>\n",
       "      <td>-2.644184</td>\n",
       "      <td>0.785136</td>\n",
       "      <td>1</td>\n",
       "      <td>1</td>\n",
       "    </tr>\n",
       "    <tr>\n",
       "      <th>2</th>\n",
       "      <td>-2.645928</td>\n",
       "      <td>0.945012</td>\n",
       "      <td>1</td>\n",
       "      <td>1</td>\n",
       "    </tr>\n",
       "    <tr>\n",
       "      <th>3</th>\n",
       "      <td>-2.478884</td>\n",
       "      <td>0.595304</td>\n",
       "      <td>0</td>\n",
       "      <td>1</td>\n",
       "    </tr>\n",
       "    <tr>\n",
       "      <th>4</th>\n",
       "      <td>-2.260729</td>\n",
       "      <td>0.964858</td>\n",
       "      <td>0</td>\n",
       "      <td>1</td>\n",
       "    </tr>\n",
       "  </tbody>\n",
       "</table>\n",
       "</div>"
      ],
      "text/plain": [
       "   principal component 1  principal component 2  Vision  Surface\n",
       "0              -2.897782               0.496654       1        1\n",
       "1              -2.644184               0.785136       1        1\n",
       "2              -2.645928               0.945012       1        1\n",
       "3              -2.478884               0.595304       0        1\n",
       "4              -2.260729               0.964858       0        1"
      ]
     },
     "execution_count": 69,
     "metadata": {},
     "output_type": "execute_result"
    }
   ],
   "source": [
    "finalDf = pd.concat([principalDf, df[['Vision',\"Surface\"]]], axis = 1)\n",
    "finalDf.head(5)"
   ]
  },
  {
   "cell_type": "code",
   "execution_count": 70,
   "id": "cf23a36a-c9e0-4577-8f35-4cadce935c49",
   "metadata": {},
   "outputs": [
    {
     "data": {
      "text/html": [
       "<div>\n",
       "<style scoped>\n",
       "    .dataframe tbody tr th:only-of-type {\n",
       "        vertical-align: middle;\n",
       "    }\n",
       "\n",
       "    .dataframe tbody tr th {\n",
       "        vertical-align: top;\n",
       "    }\n",
       "\n",
       "    .dataframe thead th {\n",
       "        text-align: right;\n",
       "    }\n",
       "</style>\n",
       "<table border=\"1\" class=\"dataframe\">\n",
       "  <thead>\n",
       "    <tr style=\"text-align: right;\">\n",
       "      <th></th>\n",
       "      <th>P1</th>\n",
       "      <th>P2</th>\n",
       "    </tr>\n",
       "  </thead>\n",
       "  <tbody>\n",
       "    <tr>\n",
       "      <th>0</th>\n",
       "      <td>-0.598918</td>\n",
       "      <td>-0.416366</td>\n",
       "    </tr>\n",
       "    <tr>\n",
       "      <th>1</th>\n",
       "      <td>-0.614499</td>\n",
       "      <td>-0.429420</td>\n",
       "    </tr>\n",
       "  </tbody>\n",
       "</table>\n",
       "</div>"
      ],
      "text/plain": [
       "         P1        P2\n",
       "0 -0.598918 -0.416366\n",
       "1 -0.614499 -0.429420"
      ]
     },
     "execution_count": 70,
     "metadata": {},
     "output_type": "execute_result"
    }
   ],
   "source": [
    "# Standardize data\n",
    "scaler = StandardScaler() \n",
    "scaled_df = scaler.fit_transform(finalDf) \n",
    "  \n",
    "# Normalizing the Data \n",
    "normalized_df = normalize(scaled_df) \n",
    "  \n",
    "# Converting the numpy array into a pandas DataFrame \n",
    "normalized_df = pd.DataFrame(normalized_df) \n",
    "  \n",
    "# Reducing the dimensions of the data \n",
    "pca = PCA(n_components = 2) \n",
    "X_principal = pca.fit_transform(normalized_df) \n",
    "X_principal = pd.DataFrame(X_principal) \n",
    "X_principal.columns = ['P1', 'P2'] \n",
    "  \n",
    "X_principal.head(2)"
   ]
  },
  {
   "cell_type": "code",
   "execution_count": 19,
   "id": "6f7f0d94-97a9-4f61-bbda-c6866e18bf4b",
   "metadata": {},
   "outputs": [
    {
     "data": {
      "image/png": "[encoded data removed]",
      "text/plain": [
       "<Figure size 1080x432 with 3 Axes>"
      ]
     },
     "metadata": {
      "needs_background": "light"
     },
     "output_type": "display_data"
    }
   ],
   "source": [
    "plt.figure(1 , figsize = (15 , 6))\n",
    "n = 0 \n",
    "for x in ['Surface' , 'principal component 1','principal component 2']:\n",
    "    n += 1\n",
    "    plt.subplot(1 , 3 , n)\n",
    "    plt.subplots_adjust(hspace = 0.5 , wspace = 0.5)\n",
    "    sns.distplot(finalDf[x] , bins = 15)\n",
    "    plt.title('Distplot of {}'.format(x))\n",
    "plt.show()"
   ]
  },
  {
   "cell_type": "markdown",
   "id": "a6eb1416-013a-4885-bea4-cde9d53dc946",
   "metadata": {},
   "source": [
    "Heatmap :\n",
    "\n",
    "A heat map is a data visualization technique that shows magnitude of a phenomenon as color in two dimensions. The variation in color may be by hue or intensity, giving obvious visual cues to the reader about how the phenomenon is clustered or varies over space."
   ]
  },
  {
   "cell_type": "code",
   "execution_count": 77,
   "id": "158c8975-aa62-4232-b3a5-48b036ac23e8",
   "metadata": {},
   "outputs": [
    {
     "data": {
      "image/png": "[encoded data removed]",
      "text/plain": [
       "<Figure size 864x432 with 2 Axes>"
      ]
     },
     "metadata": {
      "needs_background": "light"
     },
     "output_type": "display_data"
    }
   ],
   "source": [
    "plt.figure(1, figsize = (12 ,6))\n",
    "sns.heatmap(finalDf)\n",
    "plt.show()"
   ]
  },
  {
   "cell_type": "markdown",
   "id": "6eaf129d-2f5d-456a-bb48-fce9ed6e9035",
   "metadata": {},
   "source": [
    "Dendrogram :\n",
    "\n",
    "A dendrogram is a diagram representing a tree. This diagrammatic representation is frequently used in different contexts: in hierarchical clustering, it illustrates the arrangement of the clusters produced by the corresponding analyses."
   ]
  },
  {
   "cell_type": "code",
   "execution_count": 71,
   "id": "3928a299-6615-4700-9706-f5265c9736c5",
   "metadata": {},
   "outputs": [
    {
     "data": {
      "image/png": "[encoded data removed]",
      "text/plain": [
       "<Figure size 432x432 with 1 Axes>"
      ]
     },
     "metadata": {
      "needs_background": "light"
     },
     "output_type": "display_data"
    }
   ],
   "source": [
    "plt.figure(figsize =(6, 6)) \n",
    "plt.title('Visualising the data') \n",
    "Dendrogram = shc.dendrogram((shc.linkage(X_principal, method ='ward'))) "
   ]
  },
  {
   "cell_type": "code",
   "execution_count": 72,
   "id": "0c9f84e7-b640-4eb2-bd5e-fde6af381010",
   "metadata": {},
   "outputs": [
    {
     "data": {
      "image/png": "[encoded data removed]",
      "text/plain": [
       "<Figure size 432x288 with 1 Axes>"
      ]
     },
     "metadata": {
      "needs_background": "light"
     },
     "output_type": "display_data"
    }
   ],
   "source": [
    "silhouette_scores = [] \n",
    "\n",
    "for n_cluster in range(2, 8):\n",
    "    silhouette_scores.append( \n",
    "        silhouette_score(X_principal, AgglomerativeClustering(n_clusters = n_cluster).fit_predict(X_principal))) \n",
    "    \n",
    "# Plotting a bar graph to compare the results \n",
    "k = [2, 3, 4, 5, 6,7] \n",
    "plt.bar(k, silhouette_scores) \n",
    "plt.xlabel('Number of clusters', fontsize = 10) \n",
    "plt.ylabel('Silhouette Score', fontsize = 10) \n",
    "plt.show() "
   ]
  },
  {
   "cell_type": "markdown",
   "id": "822c8333-f57b-428e-8214-390154f637fa",
   "metadata": {},
   "source": [
    "Building and Visualizing clustering model for k = 4"
   ]
  },
  {
   "cell_type": "code",
   "execution_count": 73,
   "id": "9e6a722f-ab88-4eb2-a65e-9708394b7cff",
   "metadata": {},
   "outputs": [
    {
     "data": {
      "text/plain": [
       "AgglomerativeClustering(n_clusters=4)"
      ]
     },
     "execution_count": 73,
     "metadata": {},
     "output_type": "execute_result"
    }
   ],
   "source": [
    "agg = AgglomerativeClustering(n_clusters=4)\n",
    "agg.fit(X_principal)"
   ]
  },
  {
   "cell_type": "code",
   "execution_count": 75,
   "id": "61952940-baeb-4617-8340-f727cddd2c6e",
   "metadata": {},
   "outputs": [
    {
     "data": {
      "image/png": "[encoded data removed]",
      "text/plain": [
       "<Figure size 432x288 with 1 Axes>"
      ]
     },
     "metadata": {
      "needs_background": "light"
     },
     "output_type": "display_data"
    }
   ],
   "source": [
    "# Visualizing the clustering \n",
    "plt.scatter(X_principal['P1'], X_principal['P2'],  \n",
    "           c = AgglomerativeClustering(n_clusters = 4).fit_predict(X_principal), cmap =plt.cm.winter) \n",
    "plt.show() "
   ]
  },
  {
   "cell_type": "markdown",
   "id": "357338e6-8c4a-4927-8672-a136df22ba9b",
   "metadata": {},
   "source": [
    "Hierarchical clustering\n",
    "Hierarchical clustering (also called hierarchical cluster analysis or HCA) is a method of cluster analysis which seeks to build a hierarchy of clusters. Strategies for hierarchical clustering generally fall into two types:\n",
    "\n",
    "Agglomerative : This is a \"bottom-up\" approach: each observation starts in its own cluster, and pairs of clusters are merged as one moves up the hierarchy.\n",
    "Divisive : This is a \"top-down\" approach: all observations start in one cluster, and splits are performed recursively as one moves down the hierarchy.\n",
    "In general, the merges and splits are determined in a greedy manner. The results of hierarchical clustering are usually presented in a dendrogram."
   ]
  },
  {
   "cell_type": "code",
   "execution_count": null,
   "id": "a86e6a64-2d2e-4cc8-b215-de8a893eafde",
   "metadata": {},
   "outputs": [],
   "source": []
  }
 ],
 "metadata": {
  "kernelspec": {
   "display_name": "Python 3 (ipykernel)",
   "language": "python",
   "name": "python3"
  },
  "language_info": {
   "codemirror_mode": {
    "name": "ipython",
    "version": 3
   },
   "file_extension": ".py",
   "mimetype": "text/x-python",
   "name": "python",
   "nbconvert_exporter": "python",
   "pygments_lexer": "ipython3",
   "version": "3.9.7"
  }
 },
 "nbformat": 4,
 "nbformat_minor": 5
}
