{
 "cells": [
  {
   "cell_type": "code",
   "execution_count": 2,
   "id": "ca4bc971-f623-4f88-889b-204b5de57dc9",
   "metadata": {},
   "outputs": [
    {
     "name": "stdout",
     "output_type": "stream",
     "text": [
      "Requirement already satisfied: sklearn in /Users/macbook/opt/anaconda3/lib/python3.9/site-packages (0.0)\n",
      "Requirement already satisfied: scikit-learn in /Users/macbook/opt/anaconda3/lib/python3.9/site-packages (from sklearn) (0.24.2)\n",
      "Requirement already satisfied: numpy>=1.13.3 in /Users/macbook/opt/anaconda3/lib/python3.9/site-packages (from scikit-learn->sklearn) (1.20.3)\n",
      "Requirement already satisfied: joblib>=0.11 in /Users/macbook/opt/anaconda3/lib/python3.9/site-packages (from scikit-learn->sklearn) (1.1.0)\n",
      "Requirement already satisfied: scipy>=0.19.1 in /Users/macbook/opt/anaconda3/lib/python3.9/site-packages (from scikit-learn->sklearn) (1.7.1)\n",
      "Requirement already satisfied: threadpoolctl>=2.0.0 in /Users/macbook/opt/anaconda3/lib/python3.9/site-packages (from scikit-learn->sklearn) (2.2.0)\n"
     ]
    }
   ],
   "source": [
    "import sys\n",
    "!{sys.executable} -m pip install sklearn"
   ]
  },
  {
   "cell_type": "code",
   "execution_count": 2,
   "id": "cb24a93b-712c-4403-8b34-12a3cff54f99",
   "metadata": {},
   "outputs": [],
   "source": [
    "from sklearn.cluster import KMeans\n",
    "import pandas as pd\n",
    "from sklearn.preprocessing import MinMaxScaler\n",
    "import matplotlib.pyplot as plt\n",
    "from sklearn.decomposition import PCA\n",
    "from sklearn.preprocessing import StandardScaler\n",
    "%matplotlib inline"
   ]
  },
  {
   "cell_type": "code",
   "execution_count": 3,
   "id": "ffdd23e0-f228-4faf-a81b-44959c02fa17",
   "metadata": {},
   "outputs": [],
   "source": [
    "df=pd.read_excel(\"Final_Data.xlsx\")"
   ]
  },
  {
   "cell_type": "code",
   "execution_count": 5,
   "id": "1cf84b20-10ef-41b9-8fa0-d21094a9ce2c",
   "metadata": {},
   "outputs": [
    {
     "data": {
      "text/html": [
       "<div>\n",
       "<style scoped>\n",
       "    .dataframe tbody tr th:only-of-type {\n",
       "        vertical-align: middle;\n",
       "    }\n",
       "\n",
       "    .dataframe tbody tr th {\n",
       "        vertical-align: top;\n",
       "    }\n",
       "\n",
       "    .dataframe thead th {\n",
       "        text-align: right;\n",
       "    }\n",
       "</style>\n",
       "<table border=\"1\" class=\"dataframe\">\n",
       "  <thead>\n",
       "    <tr style=\"text-align: right;\">\n",
       "      <th></th>\n",
       "      <th>Unnamed: 0</th>\n",
       "      <th>Trial</th>\n",
       "      <th>Unnamed: 1</th>\n",
       "      <th>Vision</th>\n",
       "      <th>Surface</th>\n",
       "      <th>Fx[N]</th>\n",
       "      <th>Fy[N]</th>\n",
       "      <th>Fz[N]</th>\n",
       "      <th>Mx[Nm]</th>\n",
       "      <th>My[Nm]</th>\n",
       "      <th>...</th>\n",
       "      <th>Max_COPx</th>\n",
       "      <th>Min_COPy</th>\n",
       "      <th>Coeff_stab</th>\n",
       "      <th>Fx/Fz</th>\n",
       "      <th>Fy/Fz</th>\n",
       "      <th>Section</th>\n",
       "      <th>Min_COPx</th>\n",
       "      <th>Max_COPy</th>\n",
       "      <th>Ecart_COPx</th>\n",
       "      <th>Ecart_COPy</th>\n",
       "    </tr>\n",
       "  </thead>\n",
       "  <tbody>\n",
       "    <tr>\n",
       "      <th>0</th>\n",
       "      <td>0</td>\n",
       "      <td>BDS00001</td>\n",
       "      <td>1</td>\n",
       "      <td>Open</td>\n",
       "      <td>Firm</td>\n",
       "      <td>-1.732227</td>\n",
       "      <td>-3.811173</td>\n",
       "      <td>537.878822</td>\n",
       "      <td>5.218416</td>\n",
       "      <td>43.218262</td>\n",
       "      <td>...</td>\n",
       "      <td>-7.353309</td>\n",
       "      <td>0.612749</td>\n",
       "      <td>4.186365</td>\n",
       "      <td>-0.003220</td>\n",
       "      <td>-0.007086</td>\n",
       "      <td>1.402341</td>\n",
       "      <td>-9.029349</td>\n",
       "      <td>1.449448</td>\n",
       "      <td>1.676040</td>\n",
       "      <td>0.836699</td>\n",
       "    </tr>\n",
       "    <tr>\n",
       "      <th>1</th>\n",
       "      <td>1</td>\n",
       "      <td>BDS00002</td>\n",
       "      <td>2</td>\n",
       "      <td>Open</td>\n",
       "      <td>Firm</td>\n",
       "      <td>-1.627292</td>\n",
       "      <td>-4.235726</td>\n",
       "      <td>535.285603</td>\n",
       "      <td>2.955367</td>\n",
       "      <td>41.121174</td>\n",
       "      <td>...</td>\n",
       "      <td>-6.638454</td>\n",
       "      <td>0.140214</td>\n",
       "      <td>4.537560</td>\n",
       "      <td>-0.003040</td>\n",
       "      <td>-0.007913</td>\n",
       "      <td>1.814866</td>\n",
       "      <td>-8.891325</td>\n",
       "      <td>0.945793</td>\n",
       "      <td>2.252871</td>\n",
       "      <td>0.805579</td>\n",
       "    </tr>\n",
       "    <tr>\n",
       "      <th>2</th>\n",
       "      <td>2</td>\n",
       "      <td>BDS00003</td>\n",
       "      <td>3</td>\n",
       "      <td>Open</td>\n",
       "      <td>Firm</td>\n",
       "      <td>-1.566174</td>\n",
       "      <td>-4.603948</td>\n",
       "      <td>534.938451</td>\n",
       "      <td>2.289978</td>\n",
       "      <td>42.048856</td>\n",
       "      <td>...</td>\n",
       "      <td>-7.285561</td>\n",
       "      <td>0.058207</td>\n",
       "      <td>4.863048</td>\n",
       "      <td>-0.002928</td>\n",
       "      <td>-0.008607</td>\n",
       "      <td>0.771987</td>\n",
       "      <td>-8.504962</td>\n",
       "      <td>0.691294</td>\n",
       "      <td>1.219401</td>\n",
       "      <td>0.633087</td>\n",
       "    </tr>\n",
       "    <tr>\n",
       "      <th>3</th>\n",
       "      <td>3</td>\n",
       "      <td>BDS00004</td>\n",
       "      <td>4</td>\n",
       "      <td>Closed</td>\n",
       "      <td>Firm</td>\n",
       "      <td>1.843765</td>\n",
       "      <td>-4.005788</td>\n",
       "      <td>531.874216</td>\n",
       "      <td>3.239688</td>\n",
       "      <td>36.531572</td>\n",
       "      <td>...</td>\n",
       "      <td>-6.302602</td>\n",
       "      <td>0.304533</td>\n",
       "      <td>4.409739</td>\n",
       "      <td>0.003467</td>\n",
       "      <td>-0.007531</td>\n",
       "      <td>0.736278</td>\n",
       "      <td>-7.331580</td>\n",
       "      <td>1.020076</td>\n",
       "      <td>1.028978</td>\n",
       "      <td>0.715543</td>\n",
       "    </tr>\n",
       "    <tr>\n",
       "      <th>4</th>\n",
       "      <td>4</td>\n",
       "      <td>BDS00005</td>\n",
       "      <td>5</td>\n",
       "      <td>Closed</td>\n",
       "      <td>Firm</td>\n",
       "      <td>6.367666</td>\n",
       "      <td>-0.937484</td>\n",
       "      <td>529.691440</td>\n",
       "      <td>2.962939</td>\n",
       "      <td>40.596105</td>\n",
       "      <td>...</td>\n",
       "      <td>-6.513514</td>\n",
       "      <td>0.077692</td>\n",
       "      <td>6.436307</td>\n",
       "      <td>0.012021</td>\n",
       "      <td>-0.001770</td>\n",
       "      <td>2.270045</td>\n",
       "      <td>-8.636317</td>\n",
       "      <td>1.147054</td>\n",
       "      <td>2.122803</td>\n",
       "      <td>1.069362</td>\n",
       "    </tr>\n",
       "  </tbody>\n",
       "</table>\n",
       "<p>5 rows × 29 columns</p>\n",
       "</div>"
      ],
      "text/plain": [
       "   Unnamed: 0     Trial  Unnamed: 1  Vision Surface     Fx[N]     Fy[N]  \\\n",
       "0           0  BDS00001           1    Open    Firm -1.732227 -3.811173   \n",
       "1           1  BDS00002           2    Open    Firm -1.627292 -4.235726   \n",
       "2           2  BDS00003           3    Open    Firm -1.566174 -4.603948   \n",
       "3           3  BDS00004           4  Closed    Firm  1.843765 -4.005788   \n",
       "4           4  BDS00005           5  Closed    Firm  6.367666 -0.937484   \n",
       "\n",
       "        Fz[N]    Mx[Nm]     My[Nm]  ...  Max_COPx  Min_COPy  Coeff_stab  \\\n",
       "0  537.878822  5.218416  43.218262  ... -7.353309  0.612749    4.186365   \n",
       "1  535.285603  2.955367  41.121174  ... -6.638454  0.140214    4.537560   \n",
       "2  534.938451  2.289978  42.048856  ... -7.285561  0.058207    4.863048   \n",
       "3  531.874216  3.239688  36.531572  ... -6.302602  0.304533    4.409739   \n",
       "4  529.691440  2.962939  40.596105  ... -6.513514  0.077692    6.436307   \n",
       "\n",
       "      Fx/Fz     Fy/Fz   Section  Min_COPx  Max_COPy  Ecart_COPx  Ecart_COPy  \n",
       "0 -0.003220 -0.007086  1.402341 -9.029349  1.449448    1.676040    0.836699  \n",
       "1 -0.003040 -0.007913  1.814866 -8.891325  0.945793    2.252871    0.805579  \n",
       "2 -0.002928 -0.008607  0.771987 -8.504962  0.691294    1.219401    0.633087  \n",
       "3  0.003467 -0.007531  0.736278 -7.331580  1.020076    1.028978    0.715543  \n",
       "4  0.012021 -0.001770  2.270045 -8.636317  1.147054    2.122803    1.069362  \n",
       "\n",
       "[5 rows x 29 columns]"
      ]
     },
     "execution_count": 5,
     "metadata": {},
     "output_type": "execute_result"
    }
   ],
   "source": [
    "df.head()"
   ]
  },
  {
   "cell_type": "code",
   "execution_count": 6,
   "id": "8acb8e13-1da2-4487-aee0-3064c4e92cf8",
   "metadata": {},
   "outputs": [
    {
     "data": {
      "text/plain": [
       "<matplotlib.collections.PathCollection at 0x7fd511a19370>"
      ]
     },
     "execution_count": 6,
     "metadata": {},
     "output_type": "execute_result"
    },
    {
     "data": {
      "image/png": "[encoded data removed]",
      "text/plain": [
       "<Figure size 432x288 with 1 Axes>"
      ]
     },
     "metadata": {
      "needs_background": "light"
     },
     "output_type": "display_data"
    }
   ],
   "source": [
    "plt.scatter(df[\"Coeff_stab\"],df[\"Section\"])"
   ]
  },
  {
   "cell_type": "code",
   "execution_count": 9,
   "id": "94c224bb-28bd-416b-ad81-da0e5c23a0b5",
   "metadata": {},
   "outputs": [
    {
     "data": {
      "text/plain": [
       "<matplotlib.collections.PathCollection at 0x7fa80143b820>"
      ]
     },
     "execution_count": 9,
     "metadata": {},
     "output_type": "execute_result"
    },
    {
     "data": {
      "image/png": "[encoded data removed]",
      "text/plain": [
       "<Figure size 432x288 with 1 Axes>"
      ]
     },
     "metadata": {
      "needs_background": "light"
     },
     "output_type": "display_data"
    }
   ],
   "source": [
    "plt.scatter(df[\"COPx[cm]\"],df[\"COPy[cm]\"])"
   ]
  },
  {
   "cell_type": "code",
   "execution_count": 4,
   "id": "ddd9a746-5e0a-46de-b4cd-e6defa4b2c75",
   "metadata": {},
   "outputs": [],
   "source": [
    "features = ['Coeff_stab','Section', 'COPx[cm]', 'COPy[cm]']\n",
    "x = df.loc[:, features].values\n",
    "y = df.loc[:,['Surface',\"Vision\"]].values"
   ]
  },
  {
   "cell_type": "markdown",
   "id": "019e290c-e278-41ce-a785-8a4a2b2b052c",
   "metadata": {},
   "source": [
    "PCA\n"
   ]
  },
  {
   "cell_type": "code",
   "execution_count": 5,
   "id": "3a801589-ef61-4ab3-bd34-2d60d947c7ee",
   "metadata": {},
   "outputs": [],
   "source": [
    "x = StandardScaler().fit_transform(x)"
   ]
  },
  {
   "cell_type": "markdown",
   "id": "fe4f9bb1-1052-489f-86f6-c30b4af7fc6f",
   "metadata": {},
   "source": [
    "Normalisation"
   ]
  },
  {
   "cell_type": "code",
   "execution_count": 6,
   "id": "4e5ee845-d3cf-4b89-9440-25938038611e",
   "metadata": {},
   "outputs": [
    {
     "data": {
      "text/html": [
       "<div>\n",
       "<style scoped>\n",
       "    .dataframe tbody tr th:only-of-type {\n",
       "        vertical-align: middle;\n",
       "    }\n",
       "\n",
       "    .dataframe tbody tr th {\n",
       "        vertical-align: top;\n",
       "    }\n",
       "\n",
       "    .dataframe thead th {\n",
       "        text-align: right;\n",
       "    }\n",
       "</style>\n",
       "<table border=\"1\" class=\"dataframe\">\n",
       "  <thead>\n",
       "    <tr style=\"text-align: right;\">\n",
       "      <th></th>\n",
       "      <th>Coeff_stab</th>\n",
       "      <th>Section</th>\n",
       "      <th>COPx[cm]</th>\n",
       "      <th>COPy[cm]</th>\n",
       "    </tr>\n",
       "  </thead>\n",
       "  <tbody>\n",
       "    <tr>\n",
       "      <th>0</th>\n",
       "      <td>-0.265416</td>\n",
       "      <td>-0.878199</td>\n",
       "      <td>-3.350621</td>\n",
       "      <td>0.796850</td>\n",
       "    </tr>\n",
       "    <tr>\n",
       "      <th>1</th>\n",
       "      <td>-0.096661</td>\n",
       "      <td>-0.857526</td>\n",
       "      <td>-3.185098</td>\n",
       "      <td>0.449539</td>\n",
       "    </tr>\n",
       "    <tr>\n",
       "      <th>2</th>\n",
       "      <td>0.059742</td>\n",
       "      <td>-0.909788</td>\n",
       "      <td>-3.268787</td>\n",
       "      <td>0.346501</td>\n",
       "    </tr>\n",
       "    <tr>\n",
       "      <th>3</th>\n",
       "      <td>-0.158081</td>\n",
       "      <td>-0.911577</td>\n",
       "      <td>-2.803366</td>\n",
       "      <td>0.496899</td>\n",
       "    </tr>\n",
       "    <tr>\n",
       "      <th>4</th>\n",
       "      <td>0.815721</td>\n",
       "      <td>-0.834715</td>\n",
       "      <td>-3.176691</td>\n",
       "      <td>0.455522</td>\n",
       "    </tr>\n",
       "  </tbody>\n",
       "</table>\n",
       "</div>"
      ],
      "text/plain": [
       "   Coeff_stab   Section  COPx[cm]  COPy[cm]\n",
       "0   -0.265416 -0.878199 -3.350621  0.796850\n",
       "1   -0.096661 -0.857526 -3.185098  0.449539\n",
       "2    0.059742 -0.909788 -3.268787  0.346501\n",
       "3   -0.158081 -0.911577 -2.803366  0.496899\n",
       "4    0.815721 -0.834715 -3.176691  0.455522"
      ]
     },
     "execution_count": 6,
     "metadata": {},
     "output_type": "execute_result"
    }
   ],
   "source": [
    "pd.DataFrame(data = x, columns = features).head()"
   ]
  },
  {
   "cell_type": "markdown",
   "id": "5895e515-8178-448b-b41e-393a9c5246c8",
   "metadata": {},
   "source": [
    "PCA Projection to 2D\n"
   ]
  },
  {
   "cell_type": "code",
   "execution_count": 7,
   "id": "7e2f3221-81c8-4114-a835-d7266761ce5b",
   "metadata": {},
   "outputs": [],
   "source": [
    "pca = PCA(n_components=2)"
   ]
  },
  {
   "cell_type": "code",
   "execution_count": 8,
   "id": "36eec86e-c138-47f0-9289-929b819c882c",
   "metadata": {},
   "outputs": [],
   "source": [
    "principalComponents = pca.fit_transform(x)"
   ]
  },
  {
   "cell_type": "code",
   "execution_count": 9,
   "id": "289bec1c-9e1a-4bfc-b86e-9952e925f141",
   "metadata": {},
   "outputs": [],
   "source": [
    "principalDf = pd.DataFrame(data = principalComponents\n",
    "             , columns = ['principal component 1', 'principal component 2'])"
   ]
  },
  {
   "cell_type": "code",
   "execution_count": 10,
   "id": "c2ca1b6f-5247-412d-802d-888528395978",
   "metadata": {},
   "outputs": [
    {
     "data": {
      "text/html": [
       "<div>\n",
       "<style scoped>\n",
       "    .dataframe tbody tr th:only-of-type {\n",
       "        vertical-align: middle;\n",
       "    }\n",
       "\n",
       "    .dataframe tbody tr th {\n",
       "        vertical-align: top;\n",
       "    }\n",
       "\n",
       "    .dataframe thead th {\n",
       "        text-align: right;\n",
       "    }\n",
       "</style>\n",
       "<table border=\"1\" class=\"dataframe\">\n",
       "  <thead>\n",
       "    <tr style=\"text-align: right;\">\n",
       "      <th></th>\n",
       "      <th>principal component 1</th>\n",
       "      <th>principal component 2</th>\n",
       "    </tr>\n",
       "  </thead>\n",
       "  <tbody>\n",
       "    <tr>\n",
       "      <th>0</th>\n",
       "      <td>-2.897782</td>\n",
       "      <td>0.496654</td>\n",
       "    </tr>\n",
       "    <tr>\n",
       "      <th>1</th>\n",
       "      <td>-2.644184</td>\n",
       "      <td>0.785136</td>\n",
       "    </tr>\n",
       "    <tr>\n",
       "      <th>2</th>\n",
       "      <td>-2.645928</td>\n",
       "      <td>0.945012</td>\n",
       "    </tr>\n",
       "    <tr>\n",
       "      <th>3</th>\n",
       "      <td>-2.478884</td>\n",
       "      <td>0.595304</td>\n",
       "    </tr>\n",
       "    <tr>\n",
       "      <th>4</th>\n",
       "      <td>-2.260729</td>\n",
       "      <td>0.964858</td>\n",
       "    </tr>\n",
       "  </tbody>\n",
       "</table>\n",
       "</div>"
      ],
      "text/plain": [
       "   principal component 1  principal component 2\n",
       "0              -2.897782               0.496654\n",
       "1              -2.644184               0.785136\n",
       "2              -2.645928               0.945012\n",
       "3              -2.478884               0.595304\n",
       "4              -2.260729               0.964858"
      ]
     },
     "execution_count": 10,
     "metadata": {},
     "output_type": "execute_result"
    }
   ],
   "source": [
    "principalDf.head(5)"
   ]
  },
  {
   "cell_type": "code",
   "execution_count": 35,
   "id": "573e83df-c801-4f7e-8bcf-8c756980c7c4",
   "metadata": {},
   "outputs": [
    {
     "data": {
      "text/html": [
       "<div>\n",
       "<style scoped>\n",
       "    .dataframe tbody tr th:only-of-type {\n",
       "        vertical-align: middle;\n",
       "    }\n",
       "\n",
       "    .dataframe tbody tr th {\n",
       "        vertical-align: top;\n",
       "    }\n",
       "\n",
       "    .dataframe thead th {\n",
       "        text-align: right;\n",
       "    }\n",
       "</style>\n",
       "<table border=\"1\" class=\"dataframe\">\n",
       "  <thead>\n",
       "    <tr style=\"text-align: right;\">\n",
       "      <th></th>\n",
       "      <th>Surface</th>\n",
       "    </tr>\n",
       "  </thead>\n",
       "  <tbody>\n",
       "    <tr>\n",
       "      <th>0</th>\n",
       "      <td>Firm</td>\n",
       "    </tr>\n",
       "    <tr>\n",
       "      <th>1</th>\n",
       "      <td>Firm</td>\n",
       "    </tr>\n",
       "    <tr>\n",
       "      <th>2</th>\n",
       "      <td>Firm</td>\n",
       "    </tr>\n",
       "    <tr>\n",
       "      <th>3</th>\n",
       "      <td>Firm</td>\n",
       "    </tr>\n",
       "    <tr>\n",
       "      <th>4</th>\n",
       "      <td>Firm</td>\n",
       "    </tr>\n",
       "  </tbody>\n",
       "</table>\n",
       "</div>"
      ],
      "text/plain": [
       "  Surface\n",
       "0    Firm\n",
       "1    Firm\n",
       "2    Firm\n",
       "3    Firm\n",
       "4    Firm"
      ]
     },
     "execution_count": 35,
     "metadata": {},
     "output_type": "execute_result"
    }
   ],
   "source": [
    "df[['Surface']].head()"
   ]
  },
  {
   "cell_type": "code",
   "execution_count": 36,
   "id": "df9ff22f-0d9c-40e4-abfa-6beaf53b1467",
   "metadata": {},
   "outputs": [
    {
     "data": {
      "text/html": [
       "<div>\n",
       "<style scoped>\n",
       "    .dataframe tbody tr th:only-of-type {\n",
       "        vertical-align: middle;\n",
       "    }\n",
       "\n",
       "    .dataframe tbody tr th {\n",
       "        vertical-align: top;\n",
       "    }\n",
       "\n",
       "    .dataframe thead th {\n",
       "        text-align: right;\n",
       "    }\n",
       "</style>\n",
       "<table border=\"1\" class=\"dataframe\">\n",
       "  <thead>\n",
       "    <tr style=\"text-align: right;\">\n",
       "      <th></th>\n",
       "      <th>Vision</th>\n",
       "    </tr>\n",
       "  </thead>\n",
       "  <tbody>\n",
       "    <tr>\n",
       "      <th>0</th>\n",
       "      <td>Open</td>\n",
       "    </tr>\n",
       "    <tr>\n",
       "      <th>1</th>\n",
       "      <td>Open</td>\n",
       "    </tr>\n",
       "    <tr>\n",
       "      <th>2</th>\n",
       "      <td>Open</td>\n",
       "    </tr>\n",
       "    <tr>\n",
       "      <th>3</th>\n",
       "      <td>Closed</td>\n",
       "    </tr>\n",
       "    <tr>\n",
       "      <th>4</th>\n",
       "      <td>Closed</td>\n",
       "    </tr>\n",
       "  </tbody>\n",
       "</table>\n",
       "</div>"
      ],
      "text/plain": [
       "   Vision\n",
       "0    Open\n",
       "1    Open\n",
       "2    Open\n",
       "3  Closed\n",
       "4  Closed"
      ]
     },
     "execution_count": 36,
     "metadata": {},
     "output_type": "execute_result"
    }
   ],
   "source": [
    "df[['Vision']].head()"
   ]
  },
  {
   "cell_type": "code",
   "execution_count": 11,
   "id": "425cbb06-53b6-4652-89a4-65813cbbfefa",
   "metadata": {},
   "outputs": [
    {
     "data": {
      "text/html": [
       "<div>\n",
       "<style scoped>\n",
       "    .dataframe tbody tr th:only-of-type {\n",
       "        vertical-align: middle;\n",
       "    }\n",
       "\n",
       "    .dataframe tbody tr th {\n",
       "        vertical-align: top;\n",
       "    }\n",
       "\n",
       "    .dataframe thead th {\n",
       "        text-align: right;\n",
       "    }\n",
       "</style>\n",
       "<table border=\"1\" class=\"dataframe\">\n",
       "  <thead>\n",
       "    <tr style=\"text-align: right;\">\n",
       "      <th></th>\n",
       "      <th>principal component 1</th>\n",
       "      <th>principal component 2</th>\n",
       "      <th>Vision</th>\n",
       "      <th>Surface</th>\n",
       "    </tr>\n",
       "  </thead>\n",
       "  <tbody>\n",
       "    <tr>\n",
       "      <th>0</th>\n",
       "      <td>-2.897782</td>\n",
       "      <td>0.496654</td>\n",
       "      <td>Open</td>\n",
       "      <td>Firm</td>\n",
       "    </tr>\n",
       "    <tr>\n",
       "      <th>1</th>\n",
       "      <td>-2.644184</td>\n",
       "      <td>0.785136</td>\n",
       "      <td>Open</td>\n",
       "      <td>Firm</td>\n",
       "    </tr>\n",
       "    <tr>\n",
       "      <th>2</th>\n",
       "      <td>-2.645928</td>\n",
       "      <td>0.945012</td>\n",
       "      <td>Open</td>\n",
       "      <td>Firm</td>\n",
       "    </tr>\n",
       "    <tr>\n",
       "      <th>3</th>\n",
       "      <td>-2.478884</td>\n",
       "      <td>0.595304</td>\n",
       "      <td>Closed</td>\n",
       "      <td>Firm</td>\n",
       "    </tr>\n",
       "    <tr>\n",
       "      <th>4</th>\n",
       "      <td>-2.260729</td>\n",
       "      <td>0.964858</td>\n",
       "      <td>Closed</td>\n",
       "      <td>Firm</td>\n",
       "    </tr>\n",
       "  </tbody>\n",
       "</table>\n",
       "</div>"
      ],
      "text/plain": [
       "   principal component 1  principal component 2  Vision Surface\n",
       "0              -2.897782               0.496654    Open    Firm\n",
       "1              -2.644184               0.785136    Open    Firm\n",
       "2              -2.645928               0.945012    Open    Firm\n",
       "3              -2.478884               0.595304  Closed    Firm\n",
       "4              -2.260729               0.964858  Closed    Firm"
      ]
     },
     "execution_count": 11,
     "metadata": {},
     "output_type": "execute_result"
    }
   ],
   "source": [
    "finalDf = pd.concat([principalDf, df[['Vision',\"Surface\"]]], axis = 1)\n",
    "finalDf.head(5)"
   ]
  },
  {
   "cell_type": "markdown",
   "id": "c643dcc6-37d9-4c10-b735-ad03c18658aa",
   "metadata": {},
   "source": [
    "Visualize 2D Projection :"
   ]
  },
  {
   "cell_type": "code",
   "execution_count": 14,
   "id": "d61ddfec-6f53-46e9-8df6-540a0a79764a",
   "metadata": {},
   "outputs": [
    {
     "data": {
      "image/png": "[encoded data removed]",
      "text/plain": [
       "<Figure size 288x288 with 1 Axes>"
      ]
     },
     "metadata": {
      "needs_background": "light"
     },
     "output_type": "display_data"
    }
   ],
   "source": [
    "fig = plt.figure(figsize = (4,4))\n",
    "ax = fig.add_subplot(1,1,1) \n",
    "ax.set_xlabel('Principal Component 1', fontsize = 15)\n",
    "ax.set_ylabel('Principal Component 2', fontsize = 15)\n",
    "ax.set_title('2 Component PCA', fontsize = 20)\n",
    "Surface = ['Firm', 'Foam']\n",
    "colors = ['r', 'g']\n",
    "for target, color in zip(Surface,colors):\n",
    "    indicesToKeep = finalDf['Surface'] == target\n",
    "    ax.scatter(finalDf.loc[indicesToKeep, 'principal component 1']\n",
    "               , finalDf.loc[indicesToKeep, 'principal component 2']\n",
    "               , c = color\n",
    "               , s = 50)\n",
    "ax.legend(Surface)\n",
    "ax.grid()"
   ]
  },
  {
   "cell_type": "code",
   "execution_count": 15,
   "id": "d0583d5b-5827-4a5e-89d0-32e9c5c255f2",
   "metadata": {},
   "outputs": [
    {
     "data": {
      "image/png": "[encoded data removed]",
      "text/plain": [
       "<Figure size 288x288 with 1 Axes>"
      ]
     },
     "metadata": {
      "needs_background": "light"
     },
     "output_type": "display_data"
    }
   ],
   "source": [
    "fig = plt.figure(figsize = (4,4))\n",
    "ax = fig.add_subplot(1,1,1) \n",
    "ax.set_xlabel('Principal Component 1', fontsize = 15)\n",
    "ax.set_ylabel('Principal Component 2', fontsize = 15)\n",
    "ax.set_title('2 Component PCA', fontsize = 20)\n",
    "\n",
    "\n",
    "Vision = ['Open', 'Closed']\n",
    "colors = ['r', 'g']\n",
    "for target, color in zip(Vision,colors):\n",
    "    indicesToKeep = finalDf['Vision'] == target\n",
    "    ax.scatter(finalDf.loc[indicesToKeep, 'principal component 1']\n",
    "               , finalDf.loc[indicesToKeep, 'principal component 2']\n",
    "               , c = color\n",
    "               , s = 50)\n",
    "ax.legend(Vision)\n",
    "ax.grid()"
   ]
  },
  {
   "cell_type": "markdown",
   "id": "9a1b44a0-2718-432b-ba4f-31c201fd6a63",
   "metadata": {},
   "source": [
    "The twoo classes appear to be well separated!\n"
   ]
  },
  {
   "cell_type": "code",
   "execution_count": 17,
   "id": "076d97d2-5c9d-4587-99b1-3b4f4895360e",
   "metadata": {},
   "outputs": [],
   "source": [
    "finalDf\n",
    "finalDf.to_excel(\"dataCPA.xlsx\")"
   ]
  },
  {
   "cell_type": "code",
   "execution_count": 18,
   "id": "68a9856e-dfac-481d-bf25-351092afe5e0",
   "metadata": {},
   "outputs": [],
   "source": [
    "km=KMeans(n_clusters=4)"
   ]
  },
  {
   "cell_type": "code",
   "execution_count": 19,
   "id": "75e6fe1c-9757-4a67-9cc8-6c5b90fbf385",
   "metadata": {},
   "outputs": [
    {
     "data": {
      "text/plain": [
       "KMeans(n_clusters=4)"
      ]
     },
     "execution_count": 19,
     "metadata": {},
     "output_type": "execute_result"
    }
   ],
   "source": [
    "km"
   ]
  },
  {
   "cell_type": "code",
   "execution_count": 20,
   "id": "39ac2d0c-dc57-4e4e-92f9-8052ff63bc2f",
   "metadata": {},
   "outputs": [
    {
     "data": {
      "text/html": [
       "<div>\n",
       "<style scoped>\n",
       "    .dataframe tbody tr th:only-of-type {\n",
       "        vertical-align: middle;\n",
       "    }\n",
       "\n",
       "    .dataframe tbody tr th {\n",
       "        vertical-align: top;\n",
       "    }\n",
       "\n",
       "    .dataframe thead th {\n",
       "        text-align: right;\n",
       "    }\n",
       "</style>\n",
       "<table border=\"1\" class=\"dataframe\">\n",
       "  <thead>\n",
       "    <tr style=\"text-align: right;\">\n",
       "      <th></th>\n",
       "      <th>principal component 1</th>\n",
       "      <th>principal component 2</th>\n",
       "      <th>Vision</th>\n",
       "      <th>Surface</th>\n",
       "    </tr>\n",
       "  </thead>\n",
       "  <tbody>\n",
       "    <tr>\n",
       "      <th>0</th>\n",
       "      <td>-2.897782</td>\n",
       "      <td>0.496654</td>\n",
       "      <td>Open</td>\n",
       "      <td>Firm</td>\n",
       "    </tr>\n",
       "    <tr>\n",
       "      <th>1</th>\n",
       "      <td>-2.644184</td>\n",
       "      <td>0.785136</td>\n",
       "      <td>Open</td>\n",
       "      <td>Firm</td>\n",
       "    </tr>\n",
       "    <tr>\n",
       "      <th>2</th>\n",
       "      <td>-2.645928</td>\n",
       "      <td>0.945012</td>\n",
       "      <td>Open</td>\n",
       "      <td>Firm</td>\n",
       "    </tr>\n",
       "    <tr>\n",
       "      <th>3</th>\n",
       "      <td>-2.478884</td>\n",
       "      <td>0.595304</td>\n",
       "      <td>Closed</td>\n",
       "      <td>Firm</td>\n",
       "    </tr>\n",
       "    <tr>\n",
       "      <th>4</th>\n",
       "      <td>-2.260729</td>\n",
       "      <td>0.964858</td>\n",
       "      <td>Closed</td>\n",
       "      <td>Firm</td>\n",
       "    </tr>\n",
       "    <tr>\n",
       "      <th>...</th>\n",
       "      <td>...</td>\n",
       "      <td>...</td>\n",
       "      <td>...</td>\n",
       "      <td>...</td>\n",
       "    </tr>\n",
       "    <tr>\n",
       "      <th>1925</th>\n",
       "      <td>-1.404962</td>\n",
       "      <td>0.825528</td>\n",
       "      <td>Open</td>\n",
       "      <td>Firm</td>\n",
       "    </tr>\n",
       "    <tr>\n",
       "      <th>1926</th>\n",
       "      <td>-0.346499</td>\n",
       "      <td>-1.558043</td>\n",
       "      <td>Open</td>\n",
       "      <td>Firm</td>\n",
       "    </tr>\n",
       "    <tr>\n",
       "      <th>1927</th>\n",
       "      <td>-0.330455</td>\n",
       "      <td>-1.530757</td>\n",
       "      <td>Closed</td>\n",
       "      <td>Foam</td>\n",
       "    </tr>\n",
       "    <tr>\n",
       "      <th>1928</th>\n",
       "      <td>-0.064944</td>\n",
       "      <td>-0.922590</td>\n",
       "      <td>Closed</td>\n",
       "      <td>Foam</td>\n",
       "    </tr>\n",
       "    <tr>\n",
       "      <th>1929</th>\n",
       "      <td>0.691583</td>\n",
       "      <td>-1.022680</td>\n",
       "      <td>Closed</td>\n",
       "      <td>Foam</td>\n",
       "    </tr>\n",
       "  </tbody>\n",
       "</table>\n",
       "<p>1930 rows × 4 columns</p>\n",
       "</div>"
      ],
      "text/plain": [
       "      principal component 1  principal component 2  Vision Surface\n",
       "0                 -2.897782               0.496654    Open    Firm\n",
       "1                 -2.644184               0.785136    Open    Firm\n",
       "2                 -2.645928               0.945012    Open    Firm\n",
       "3                 -2.478884               0.595304  Closed    Firm\n",
       "4                 -2.260729               0.964858  Closed    Firm\n",
       "...                     ...                    ...     ...     ...\n",
       "1925              -1.404962               0.825528    Open    Firm\n",
       "1926              -0.346499              -1.558043    Open    Firm\n",
       "1927              -0.330455              -1.530757  Closed    Foam\n",
       "1928              -0.064944              -0.922590  Closed    Foam\n",
       "1929               0.691583              -1.022680  Closed    Foam\n",
       "\n",
       "[1930 rows x 4 columns]"
      ]
     },
     "execution_count": 20,
     "metadata": {},
     "output_type": "execute_result"
    }
   ],
   "source": [
    "finalDf"
   ]
  },
  {
   "cell_type": "code",
   "execution_count": 21,
   "id": "9ff88678-3238-46fd-a0f3-e487c2939182",
   "metadata": {},
   "outputs": [
    {
     "data": {
      "text/plain": [
       "array([3, 3, 3, ..., 0, 0, 2], dtype=int32)"
      ]
     },
     "execution_count": 21,
     "metadata": {},
     "output_type": "execute_result"
    }
   ],
   "source": [
    "y_predicted=km.fit_predict(finalDf[[\"principal component 1\",\"principal component 2\"]])\n",
    "y_predicted"
   ]
  },
  {
   "cell_type": "markdown",
   "id": "30b4b6bb-4d90-469d-8a51-ff323b0f0b25",
   "metadata": {},
   "source": [
    "Train Kmeans algorithm on pc1 and pc2"
   ]
  },
  {
   "cell_type": "code",
   "execution_count": 22,
   "id": "0b0ef248-5325-4915-955c-11ac1bc1b42f",
   "metadata": {},
   "outputs": [
    {
     "data": {
      "text/html": [
       "<div>\n",
       "<style scoped>\n",
       "    .dataframe tbody tr th:only-of-type {\n",
       "        vertical-align: middle;\n",
       "    }\n",
       "\n",
       "    .dataframe tbody tr th {\n",
       "        vertical-align: top;\n",
       "    }\n",
       "\n",
       "    .dataframe thead th {\n",
       "        text-align: right;\n",
       "    }\n",
       "</style>\n",
       "<table border=\"1\" class=\"dataframe\">\n",
       "  <thead>\n",
       "    <tr style=\"text-align: right;\">\n",
       "      <th></th>\n",
       "      <th>principal component 1</th>\n",
       "      <th>principal component 2</th>\n",
       "      <th>Vision</th>\n",
       "      <th>Surface</th>\n",
       "      <th>cluster</th>\n",
       "    </tr>\n",
       "  </thead>\n",
       "  <tbody>\n",
       "    <tr>\n",
       "      <th>0</th>\n",
       "      <td>-2.897782</td>\n",
       "      <td>0.496654</td>\n",
       "      <td>Open</td>\n",
       "      <td>Firm</td>\n",
       "      <td>3</td>\n",
       "    </tr>\n",
       "    <tr>\n",
       "      <th>1</th>\n",
       "      <td>-2.644184</td>\n",
       "      <td>0.785136</td>\n",
       "      <td>Open</td>\n",
       "      <td>Firm</td>\n",
       "      <td>3</td>\n",
       "    </tr>\n",
       "    <tr>\n",
       "      <th>2</th>\n",
       "      <td>-2.645928</td>\n",
       "      <td>0.945012</td>\n",
       "      <td>Open</td>\n",
       "      <td>Firm</td>\n",
       "      <td>3</td>\n",
       "    </tr>\n",
       "    <tr>\n",
       "      <th>3</th>\n",
       "      <td>-2.478884</td>\n",
       "      <td>0.595304</td>\n",
       "      <td>Closed</td>\n",
       "      <td>Firm</td>\n",
       "      <td>3</td>\n",
       "    </tr>\n",
       "    <tr>\n",
       "      <th>4</th>\n",
       "      <td>-2.260729</td>\n",
       "      <td>0.964858</td>\n",
       "      <td>Closed</td>\n",
       "      <td>Firm</td>\n",
       "      <td>3</td>\n",
       "    </tr>\n",
       "    <tr>\n",
       "      <th>...</th>\n",
       "      <td>...</td>\n",
       "      <td>...</td>\n",
       "      <td>...</td>\n",
       "      <td>...</td>\n",
       "      <td>...</td>\n",
       "    </tr>\n",
       "    <tr>\n",
       "      <th>1925</th>\n",
       "      <td>-1.404962</td>\n",
       "      <td>0.825528</td>\n",
       "      <td>Open</td>\n",
       "      <td>Firm</td>\n",
       "      <td>3</td>\n",
       "    </tr>\n",
       "    <tr>\n",
       "      <th>1926</th>\n",
       "      <td>-0.346499</td>\n",
       "      <td>-1.558043</td>\n",
       "      <td>Open</td>\n",
       "      <td>Firm</td>\n",
       "      <td>0</td>\n",
       "    </tr>\n",
       "    <tr>\n",
       "      <th>1927</th>\n",
       "      <td>-0.330455</td>\n",
       "      <td>-1.530757</td>\n",
       "      <td>Closed</td>\n",
       "      <td>Foam</td>\n",
       "      <td>0</td>\n",
       "    </tr>\n",
       "    <tr>\n",
       "      <th>1928</th>\n",
       "      <td>-0.064944</td>\n",
       "      <td>-0.922590</td>\n",
       "      <td>Closed</td>\n",
       "      <td>Foam</td>\n",
       "      <td>0</td>\n",
       "    </tr>\n",
       "    <tr>\n",
       "      <th>1929</th>\n",
       "      <td>0.691583</td>\n",
       "      <td>-1.022680</td>\n",
       "      <td>Closed</td>\n",
       "      <td>Foam</td>\n",
       "      <td>2</td>\n",
       "    </tr>\n",
       "  </tbody>\n",
       "</table>\n",
       "<p>1930 rows × 5 columns</p>\n",
       "</div>"
      ],
      "text/plain": [
       "      principal component 1  principal component 2  Vision Surface  cluster\n",
       "0                 -2.897782               0.496654    Open    Firm        3\n",
       "1                 -2.644184               0.785136    Open    Firm        3\n",
       "2                 -2.645928               0.945012    Open    Firm        3\n",
       "3                 -2.478884               0.595304  Closed    Firm        3\n",
       "4                 -2.260729               0.964858  Closed    Firm        3\n",
       "...                     ...                    ...     ...     ...      ...\n",
       "1925              -1.404962               0.825528    Open    Firm        3\n",
       "1926              -0.346499              -1.558043    Open    Firm        0\n",
       "1927              -0.330455              -1.530757  Closed    Foam        0\n",
       "1928              -0.064944              -0.922590  Closed    Foam        0\n",
       "1929               0.691583              -1.022680  Closed    Foam        2\n",
       "\n",
       "[1930 rows x 5 columns]"
      ]
     },
     "execution_count": 22,
     "metadata": {},
     "output_type": "execute_result"
    }
   ],
   "source": [
    "finalDf[\"cluster\"]=y_predicted\n",
    "finalDf"
   ]
  },
  {
   "cell_type": "code",
   "execution_count": 23,
   "id": "4f4d2802-6a1a-43fb-80b8-d424fc7ca7b2",
   "metadata": {},
   "outputs": [
    {
     "data": {
      "text/plain": [
       "<matplotlib.legend.Legend at 0x7fd511fe23d0>"
      ]
     },
     "execution_count": 23,
     "metadata": {},
     "output_type": "execute_result"
    },
    {
     "data": {
      "image/png": "[encoded data removed]",
      "text/plain": [
       "<Figure size 432x288 with 1 Axes>"
      ]
     },
     "metadata": {
      "needs_background": "light"
     },
     "output_type": "display_data"
    }
   ],
   "source": [
    "df1=finalDf[finalDf.cluster==0]\n",
    "df2=finalDf[finalDf.cluster==1]\n",
    "df3=finalDf[finalDf.cluster==2]\n",
    "df4=finalDf[finalDf.cluster==3]\n",
    "plt.scatter(df1[\"principal component 1\"],df1[\"principal component 2\"],color=\"green\")\n",
    "plt.scatter(df2[\"principal component 1\"],df2[\"principal component 2\"],color=\"red\")\n",
    "plt.scatter(df3[\"principal component 1\"],df3[\"principal component 2\"],color=\"black\")\n",
    "plt.scatter(df4[\"principal component 1\"],df4[\"principal component 2\"],color=\"yellow\")\n",
    "plt.scatter(km.cluster_centers_[:,0],km.cluster_centers_[:,1],color='purple',marker='*',label='centroid')\n",
    "plt.xlabel('principal component 1')\n",
    "plt.ylabel('principal component 2')\n",
    "plt.legend()"
   ]
  },
  {
   "cell_type": "markdown",
   "id": "41e4740d-fea5-445c-9aa3-b9ec4bbd736e",
   "metadata": {},
   "source": [
    "Preprocessing using min max scaler"
   ]
  },
  {
   "cell_type": "code",
   "execution_count": 24,
   "id": "49de0058-77eb-4005-8bdc-6e5d7c40f65a",
   "metadata": {},
   "outputs": [],
   "source": [
    "scaler = MinMaxScaler()\n",
    "scaler.fit(finalDf[['principal component 1']])\n",
    "finalDf['principal component 1'] = scaler.transform(finalDf[['principal component 1']])\n",
    "scaler.fit(finalDf[['principal component 2']])\n",
    "finalDf['principal component 2'] = scaler.transform(finalDf[['principal component 2']])"
   ]
  },
  {
   "cell_type": "code",
   "execution_count": 34,
   "id": "c19f557d-1ae6-4055-8324-126b94e209e2",
   "metadata": {},
   "outputs": [
    {
     "data": {
      "text/plain": [
       "<matplotlib.legend.Legend at 0x7fd5136fa070>"
      ]
     },
     "execution_count": 34,
     "metadata": {},
     "output_type": "execute_result"
    },
    {
     "data": {
      "image/png": "[encoded data removed]",
      "text/plain": [
       "<Figure size 432x288 with 1 Axes>"
      ]
     },
     "metadata": {
      "needs_background": "light"
     },
     "output_type": "display_data"
    }
   ],
   "source": [
    "df1 = finalDf[finalDf.cluster==0]\n",
    "df2 = finalDf[finalDf.cluster==1]\n",
    "df3 = finalDf[finalDf.cluster==2]\n",
    "df4 = finalDf[finalDf.cluster==3]\n",
    "plt.scatter(df1[\"principal component 1\"],df1['principal component 2'],color='green')\n",
    "plt.scatter(df2[\"principal component 1\"],df2['principal component 1'],color='red')\n",
    "plt.scatter(df3[\"principal component 1\"],df3['principal component 1'],color='black')\n",
    "plt.scatter(df4[\"principal component 1\"],df4['principal component 1'],color='yellow')\n",
    "plt.scatter(km.cluster_centers_[:,0],km.cluster_centers_[:,1],color='purple',marker='*',label='centroid')\n",
    "plt.legend()"
   ]
  },
  {
   "cell_type": "markdown",
   "id": "f3862785-0611-4c6d-b2bd-9ffb24d3430a",
   "metadata": {},
   "source": [
    "Elbow Plot"
   ]
  },
  {
   "cell_type": "code",
   "execution_count": 35,
   "id": "9163b837-22de-4757-80a9-b47e85f6e012",
   "metadata": {},
   "outputs": [],
   "source": [
    "sse = []\n",
    "k_rng = range(1,10)\n",
    "for k in k_rng:\n",
    "    km = KMeans(n_clusters=k)\n",
    "    km.fit(finalDf[['principal component 1','principal component 2']])\n",
    "    sse.append(km.inertia_)\n"
   ]
  },
  {
   "cell_type": "code",
   "execution_count": 36,
   "id": "8e92dedf-6593-4a5d-84a1-e6c408a11b50",
   "metadata": {
    "tags": []
   },
   "outputs": [
    {
     "data": {
      "text/plain": [
       "[<matplotlib.lines.Line2D at 0x7fd5137f7c70>]"
      ]
     },
     "execution_count": 36,
     "metadata": {},
     "output_type": "execute_result"
    },
    {
     "data": {
      "image/png": "[encoded data removed]",
      "text/plain": [
       "<Figure size 432x288 with 1 Axes>"
      ]
     },
     "metadata": {
      "needs_background": "light"
     },
     "output_type": "display_data"
    }
   ],
   "source": [
    "plt.xlabel('K')\n",
    "plt.ylabel('Sum of squared error')\n",
    "plt.plot(k_rng,sse)"
   ]
  },
  {
   "cell_type": "markdown",
   "id": "cf84797c-5dc5-487f-be48-e13f7977a8ba",
   "metadata": {},
   "source": [
    "Recall that, the basic idea behind cluster partitioning methods, such as k-means clustering, is to define clusters such that the total intra-cluster variation (known as total within-cluster variation or total within-cluster sum of square)"
   ]
  },
  {
   "cell_type": "code",
   "execution_count": null,
   "id": "aa7d9cde-a9c9-4bb6-b24b-19c83a1585a6",
   "metadata": {},
   "outputs": [],
   "source": []
  }
 ],
 "metadata": {
  "kernelspec": {
   "display_name": "Python 3 (ipykernel)",
   "language": "python",
   "name": "python3"
  },
  "language_info": {
   "codemirror_mode": {
    "name": "ipython",
    "version": 3
   },
   "file_extension": ".py",
   "mimetype": "text/x-python",
   "name": "python",
   "nbconvert_exporter": "python",
   "pygments_lexer": "ipython3",
   "version": "3.9.7"
  }
 },
 "nbformat": 4,
 "nbformat_minor": 5
}
